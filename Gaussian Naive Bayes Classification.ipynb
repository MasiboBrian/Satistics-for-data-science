{
 "cells": [
  {
   "cell_type": "code",
   "execution_count": 1,
   "metadata": {},
   "outputs": [],
   "source": [
    "import numpy as np\n",
    "#Import Gaussian Naive Bayes Model\n",
    "from sklearn.naive_bayes import GaussianNB\n",
    "from sklearn.metrics import accuracy_score\n",
    "import pandas as pd\n",
    "from sklearn import preprocessing\n",
    "from sklearn.preprocessing import Normalizer\n",
    "from sklearn.decomposition import PCA"
   ]
  },
  {
   "cell_type": "code",
   "execution_count": 2,
   "metadata": {},
   "outputs": [
    {
     "name": "stdout",
     "output_type": "stream",
     "text": [
      "   Honours university Letter Experience Hired\n",
      "0    First        UON   Good        Yes     Y\n",
      "1    First        UON   Good         No     Y\n",
      "2   Second        UON   Good         No     Y\n",
      "3   Second        UON   Good        Yes     Y\n",
      "4   Second        MOI   Good         No     Y\n",
      "5   Second         KU   Good         No     Y\n",
      "6   Second         KU   Good         No     N\n",
      "7   Second        UON   Good         No     N\n",
      "8     Pass        MOI    Bad        Yes     N\n",
      "9     Pass        UON    Bad         No     N\n",
      "10    Pass         KU   Good         No     N\n",
      "11    Pass         KU   Good         No     N\n",
      "12   First       KCAU   Good        Yes     Y\n",
      "13  Second       KCAU   Good        Yes     Y\n",
      "14  Second       KCAU    Bad        Yes     Y\n",
      "Transformed Data:\n",
      "     Honours  university  Letter  Experience  Hired\n",
      "0         0           3       1           1      1\n",
      "1         0           3       1           0      1\n",
      "2         2           3       1           0      1\n",
      "3         2           3       1           1      1\n",
      "4         2           2       1           0      1\n",
      "5         2           1       1           0      1\n",
      "6         2           1       1           0      0\n",
      "7         2           3       1           0      0\n",
      "8         1           2       0           1      0\n",
      "9         1           3       0           0      0\n",
      "10        1           1       1           0      0\n",
      "11        1           1       1           0      0\n",
      "12        0           0       1           1      1\n",
      "13        2           0       1           1      1\n",
      "14        2           0       0           1      1\n",
      "Numeric Array\n",
      " [[0 3 1 1 1]\n",
      " [0 3 1 0 1]\n",
      " [2 3 1 0 1]\n",
      " [2 3 1 1 1]\n",
      " [2 2 1 0 1]\n",
      " [2 1 1 0 1]\n",
      " [2 1 1 0 0]\n",
      " [2 3 1 0 0]\n",
      " [1 2 0 1 0]\n",
      " [1 3 0 0 0]\n",
      " [1 1 1 0 0]\n",
      " [1 1 1 0 0]\n",
      " [0 0 1 1 1]\n",
      " [2 0 1 1 1]\n",
      " [2 0 0 1 1]]\n",
      "Training Sample:\n",
      " [[0 3 1 1 1]\n",
      " [0 3 1 0 1]\n",
      " [2 3 1 0 1]\n",
      " [2 3 1 1 1]\n",
      " [2 2 1 0 1]\n",
      " [2 1 1 0 1]\n",
      " [2 1 1 0 0]\n",
      " [2 3 1 0 0]\n",
      " [1 2 0 1 0]\n",
      " [1 3 0 0 0]]\n",
      "Test Sample\n",
      " [[1 1 1 0 0]\n",
      " [1 1 1 0 0]\n",
      " [0 0 1 1 1]\n",
      " [2 0 1 1 1]\n",
      " [2 0 0 1 1]]\n",
      "Independent Attributes of Training sample\n",
      " [[0 3 1 1]\n",
      " [0 3 1 0]\n",
      " [2 3 1 0]\n",
      " [2 3 1 1]\n",
      " [2 2 1 0]\n",
      " [2 1 1 0]\n",
      " [2 1 1 0]\n",
      " [2 3 1 0]\n",
      " [1 2 0 1]\n",
      " [1 3 0 0]]\n",
      "Dependent Attribute of Training Sample\n",
      "\n",
      " [1 1 1 1 1 1 0 0 0 0]\n",
      "Independent Attributes of Test Sample\n",
      "\n",
      " [[1 1 1 0]\n",
      " [1 1 1 0]\n",
      " [0 0 1 1]\n",
      " [2 0 1 1]\n",
      " [2 0 0 1]]\n",
      "dependent Attribute of Test Sample\n",
      "\n",
      " [0 0 1 1 1]\n"
     ]
    }
   ],
   "source": [
    "#Step2: Pre-process the Data\n",
    "#i. Select data Target Population(file/source)\n",
    "path='C:/pydatafiles/employ.csv'\n",
    "Attributes=['Honours','university','Letter','Experience','Hired']\n",
    "Data=pd.read_csv(path, names=Attributes)\n",
    "print(Data)\n",
    "#ii.Transform Target Population to Numeric array\n",
    "Encoder=preprocessing.LabelEncoder()\n",
    "Encoded_Data=Data.apply(preprocessing.LabelEncoder().fit_transform)\n",
    "print(\"Transformed Data:\\n\",Encoded_Data)\n",
    "Numeric_Array=Encoded_Data.values\n",
    "print(\"Numeric Array\\n\",Numeric_Array)\n",
    "#iii. Select Samples\n",
    "#a. select training sample\n",
    "split=10\n",
    "Training_Sample=Numeric_Array[:split,:]\n",
    "print(\"Training Sample:\\n\",Training_Sample)\n",
    "#b. Select Test Sample\n",
    "Test_Sample=Numeric_Array[split:,:]\n",
    "print(\"Test Sample\\n\",Test_Sample)\n",
    "#c.Select Independent Attributes Sample\n",
    "#1. Select independent attributes of training sample\n",
    "X_Train_Sample=Training_Sample[:,:-1]\n",
    "print(\"Independent Attributes of Training sample\\n\", X_Train_Sample)\n",
    "#2. Select Dependent attribute of Training sample\n",
    "Y_Train_Sample=Training_Sample[:,-1]\n",
    "print(\"Dependent Attribute of Training Sample\\n\\n\",Y_Train_Sample)\n",
    "#3. Select Independent attributes of Test Sample\n",
    "X_Test_Sample= Test_Sample[:,:-1]\n",
    "print(\"Independent Attributes of Test Sample\\n\\n\",X_Test_Sample)\n",
    "Y_Test_Sample= Test_Sample[:,-1]\n",
    "print(\"dependent Attribute of Test Sample\\n\\n\",Y_Test_Sample)"
   ]
  },
  {
   "cell_type": "code",
   "execution_count": 3,
   "metadata": {},
   "outputs": [
    {
     "name": "stdout",
     "output_type": "stream",
     "text": [
      "Predicted Value: [1 1 1 1 0]\n"
     ]
    }
   ],
   "source": [
    "#Classification\n",
    "#Step One: Train the Naive Bayes algorithm\n",
    "#Create a Gaussian classifier object\n",
    "\n",
    "Classifier_object = GaussianNB()\n",
    "#train the model\n",
    "model= Classifier_object.fit(X_Train_Sample, Y_Train_Sample)\n",
    "\n",
    "#Step Two: Using the Model to predict label of unknown instance\n",
    "#predict output by passing X_Test Sample to predict method  as parameter\n",
    "predicted_y = model.predict(X_Test_Sample)\n",
    "print(\"Predicted Value:\",predicted_y)"
   ]
  },
  {
   "cell_type": "code",
   "execution_count": 4,
   "metadata": {},
   "outputs": [
    {
     "name": "stdout",
     "output_type": "stream",
     "text": [
      "Accuracy rate: 0.4\n"
     ]
    }
   ],
   "source": [
    "accuracy=accuracy_score(Y_Test_Sample,predicted_y)\n",
    "print('Accuracy rate:',accuracy)"
   ]
  },
  {
   "cell_type": "code",
   "execution_count": null,
   "metadata": {},
   "outputs": [],
   "source": []
  }
 ],
 "metadata": {
  "kernelspec": {
   "display_name": "Python 3",
   "language": "python",
   "name": "python3"
  },
  "language_info": {
   "codemirror_mode": {
    "name": "ipython",
    "version": 3
   },
   "file_extension": ".py",
   "mimetype": "text/x-python",
   "name": "python",
   "nbconvert_exporter": "python",
   "pygments_lexer": "ipython3",
   "version": "3.8.5"
  }
 },
 "nbformat": 4,
 "nbformat_minor": 4
}
