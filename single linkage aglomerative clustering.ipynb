{
 "cells": [
  {
   "cell_type": "code",
   "execution_count": 1,
   "metadata": {},
   "outputs": [],
   "source": [
    "#Step1: Select/Import Necessary Libraries\n",
    "import numpy as np\n",
    "import matplotlib.pyplot as plt\n",
    "from scipy.cluster.hierarchy import linkage, dendrogram\n",
    "from matplotlib import style\n",
    "style.use(\"ggplot\")\n",
    "import pandas as pd"
   ]
  },
  {
   "cell_type": "code",
   "execution_count": 2,
   "metadata": {},
   "outputs": [
    {
     "name": "stdout",
     "output_type": "stream",
     "text": [
      "                      Country  Happiness.Rank  Happiness.Score  Whisker.high  \\\n",
      "0                      Norway               1            7.537      7.594445   \n",
      "1                     Denmark               2            7.522      7.581728   \n",
      "2                     Iceland               3            7.504      7.622030   \n",
      "3                 Switzerland               4            7.494      7.561772   \n",
      "4                     Finland               5            7.469      7.527542   \n",
      "..                        ...             ...              ...           ...   \n",
      "150                    Rwanda             151            3.471      3.543030   \n",
      "151                     Syria             152            3.462      3.663669   \n",
      "152                  Tanzania             153            3.349      3.461430   \n",
      "153                   Burundi             154            2.905      3.074690   \n",
      "154  Central African Republic             155            2.693      2.864884   \n",
      "\n",
      "     Whisker.low  Economy..GDP.per.Capita.    Family  \\\n",
      "0       7.479556                  1.616463  1.533524   \n",
      "1       7.462272                  1.482383  1.551122   \n",
      "2       7.385970                  1.480633  1.610574   \n",
      "3       7.426227                  1.564980  1.516912   \n",
      "4       7.410458                  1.443572  1.540247   \n",
      "..           ...                       ...       ...   \n",
      "150     3.398970                  0.368746  0.945707   \n",
      "151     3.260331                  0.777153  0.396103   \n",
      "152     3.236570                  0.511136  1.041990   \n",
      "153     2.735310                  0.091623  0.629794   \n",
      "154     2.521116                  0.000000  0.000000   \n",
      "\n",
      "     Health..Life.Expectancy.   Freedom  Generosity  \\\n",
      "0                    0.796667  0.635423    0.362012   \n",
      "1                    0.792566  0.626007    0.355280   \n",
      "2                    0.833552  0.627163    0.475540   \n",
      "3                    0.858131  0.620071    0.290549   \n",
      "4                    0.809158  0.617951    0.245483   \n",
      "..                        ...       ...         ...   \n",
      "150                  0.326425  0.581844    0.252756   \n",
      "151                  0.500533  0.081539    0.493664   \n",
      "152                  0.364509  0.390018    0.354256   \n",
      "153                  0.151611  0.059901    0.204435   \n",
      "154                  0.018773  0.270842    0.280876   \n",
      "\n",
      "     Trust..Government.Corruption.  Dystopia.Residual  \n",
      "0                         0.315964           2.277027  \n",
      "1                         0.400770           2.313707  \n",
      "2                         0.153527           2.322715  \n",
      "3                         0.367007           2.276716  \n",
      "4                         0.382612           2.430182  \n",
      "..                             ...                ...  \n",
      "150                       0.455220           0.540061  \n",
      "151                       0.151347           1.061574  \n",
      "152                       0.066035           0.621130  \n",
      "153                       0.084148           1.683024  \n",
      "154                       0.056565           2.066005  \n",
      "\n",
      "[155 rows x 12 columns]\n"
     ]
    }
   ],
   "source": [
    "#Step2: Pre-process the Data\n",
    "\n",
    "#i. Select data Target Population(file/source)\n",
    "path='C:/pydatafiles/2017.csv'\n",
    "Data=pd.read_csv(path)\n",
    "print(Data)"
   ]
  },
  {
   "cell_type": "code",
   "execution_count": 3,
   "metadata": {},
   "outputs": [
    {
     "ename": "ValueError",
     "evalue": "could not convert string to float: 'Norway'",
     "output_type": "error",
     "traceback": [
      "\u001b[1;31m---------------------------------------------------------------------------\u001b[0m",
      "\u001b[1;31mValueError\u001b[0m                                Traceback (most recent call last)",
      "\u001b[1;32m<ipython-input-3-019a4e781ec8>\u001b[0m in \u001b[0;36m<module>\u001b[1;34m\u001b[0m\n\u001b[0;32m      1\u001b[0m \u001b[1;31m#a. Apply Single link algorithm for Aglomerative clustering\u001b[0m\u001b[1;33m\u001b[0m\u001b[1;33m\u001b[0m\u001b[1;33m\u001b[0m\u001b[0m\n\u001b[0;32m      2\u001b[0m \u001b[1;31m#.i Create Distance Matrix\u001b[0m\u001b[1;33m\u001b[0m\u001b[1;33m\u001b[0m\u001b[1;33m\u001b[0m\u001b[0m\n\u001b[1;32m----> 3\u001b[1;33m \u001b[0mSingle_linkage_matrix\u001b[0m\u001b[1;33m=\u001b[0m\u001b[0mlinkage\u001b[0m\u001b[1;33m(\u001b[0m\u001b[0mData\u001b[0m\u001b[1;33m,\u001b[0m\u001b[1;34m'single'\u001b[0m\u001b[1;33m)\u001b[0m\u001b[1;33m\u001b[0m\u001b[1;33m\u001b[0m\u001b[0m\n\u001b[0m\u001b[0;32m      4\u001b[0m \u001b[0mprint\u001b[0m\u001b[1;33m(\u001b[0m\u001b[1;34m\"Single Linkage Matrix:\\n\"\u001b[0m\u001b[1;33m,\u001b[0m\u001b[0mSingle_linkage_matrix\u001b[0m\u001b[1;33m)\u001b[0m\u001b[1;33m\u001b[0m\u001b[1;33m\u001b[0m\u001b[0m\n\u001b[0;32m      5\u001b[0m \u001b[1;33m\u001b[0m\u001b[0m\n",
      "\u001b[1;32mC:\\ProgramData\\Anaconda3\\lib\\site-packages\\scipy\\cluster\\hierarchy.py\u001b[0m in \u001b[0;36mlinkage\u001b[1;34m(y, method, metric, optimal_ordering)\u001b[0m\n\u001b[0;32m   1044\u001b[0m         \u001b[1;32mraise\u001b[0m \u001b[0mValueError\u001b[0m\u001b[1;33m(\u001b[0m\u001b[1;34m\"Invalid method: {0}\"\u001b[0m\u001b[1;33m.\u001b[0m\u001b[0mformat\u001b[0m\u001b[1;33m(\u001b[0m\u001b[0mmethod\u001b[0m\u001b[1;33m)\u001b[0m\u001b[1;33m)\u001b[0m\u001b[1;33m\u001b[0m\u001b[1;33m\u001b[0m\u001b[0m\n\u001b[0;32m   1045\u001b[0m \u001b[1;33m\u001b[0m\u001b[0m\n\u001b[1;32m-> 1046\u001b[1;33m     \u001b[0my\u001b[0m \u001b[1;33m=\u001b[0m \u001b[0m_convert_to_double\u001b[0m\u001b[1;33m(\u001b[0m\u001b[0mnp\u001b[0m\u001b[1;33m.\u001b[0m\u001b[0masarray\u001b[0m\u001b[1;33m(\u001b[0m\u001b[0my\u001b[0m\u001b[1;33m,\u001b[0m \u001b[0morder\u001b[0m\u001b[1;33m=\u001b[0m\u001b[1;34m'c'\u001b[0m\u001b[1;33m)\u001b[0m\u001b[1;33m)\u001b[0m\u001b[1;33m\u001b[0m\u001b[1;33m\u001b[0m\u001b[0m\n\u001b[0m\u001b[0;32m   1047\u001b[0m \u001b[1;33m\u001b[0m\u001b[0m\n\u001b[0;32m   1048\u001b[0m     \u001b[1;32mif\u001b[0m \u001b[0my\u001b[0m\u001b[1;33m.\u001b[0m\u001b[0mndim\u001b[0m \u001b[1;33m==\u001b[0m \u001b[1;36m1\u001b[0m\u001b[1;33m:\u001b[0m\u001b[1;33m\u001b[0m\u001b[1;33m\u001b[0m\u001b[0m\n",
      "\u001b[1;32mC:\\ProgramData\\Anaconda3\\lib\\site-packages\\scipy\\cluster\\hierarchy.py\u001b[0m in \u001b[0;36m_convert_to_double\u001b[1;34m(X)\u001b[0m\n\u001b[0;32m   1566\u001b[0m \u001b[1;32mdef\u001b[0m \u001b[0m_convert_to_double\u001b[0m\u001b[1;33m(\u001b[0m\u001b[0mX\u001b[0m\u001b[1;33m)\u001b[0m\u001b[1;33m:\u001b[0m\u001b[1;33m\u001b[0m\u001b[1;33m\u001b[0m\u001b[0m\n\u001b[0;32m   1567\u001b[0m     \u001b[1;32mif\u001b[0m \u001b[0mX\u001b[0m\u001b[1;33m.\u001b[0m\u001b[0mdtype\u001b[0m \u001b[1;33m!=\u001b[0m \u001b[0mnp\u001b[0m\u001b[1;33m.\u001b[0m\u001b[0mdouble\u001b[0m\u001b[1;33m:\u001b[0m\u001b[1;33m\u001b[0m\u001b[1;33m\u001b[0m\u001b[0m\n\u001b[1;32m-> 1568\u001b[1;33m         \u001b[0mX\u001b[0m \u001b[1;33m=\u001b[0m \u001b[0mX\u001b[0m\u001b[1;33m.\u001b[0m\u001b[0mastype\u001b[0m\u001b[1;33m(\u001b[0m\u001b[0mnp\u001b[0m\u001b[1;33m.\u001b[0m\u001b[0mdouble\u001b[0m\u001b[1;33m)\u001b[0m\u001b[1;33m\u001b[0m\u001b[1;33m\u001b[0m\u001b[0m\n\u001b[0m\u001b[0;32m   1569\u001b[0m     \u001b[1;32mif\u001b[0m \u001b[1;32mnot\u001b[0m \u001b[0mX\u001b[0m\u001b[1;33m.\u001b[0m\u001b[0mflags\u001b[0m\u001b[1;33m.\u001b[0m\u001b[0mcontiguous\u001b[0m\u001b[1;33m:\u001b[0m\u001b[1;33m\u001b[0m\u001b[1;33m\u001b[0m\u001b[0m\n\u001b[0;32m   1570\u001b[0m         \u001b[0mX\u001b[0m \u001b[1;33m=\u001b[0m \u001b[0mX\u001b[0m\u001b[1;33m.\u001b[0m\u001b[0mcopy\u001b[0m\u001b[1;33m(\u001b[0m\u001b[1;33m)\u001b[0m\u001b[1;33m\u001b[0m\u001b[1;33m\u001b[0m\u001b[0m\n",
      "\u001b[1;31mValueError\u001b[0m: could not convert string to float: 'Norway'"
     ]
    }
   ],
   "source": [
    "#a. Apply Single link algorithm for Aglomerative clustering\n",
    "#.i Create Distance Matrix\n",
    "Single_linkage_matrix=linkage(Data,'single')\n",
    "print(\"Single Linkage Matrix:\\n\",Single_linkage_matrix)\n",
    "\n",
    "#.ii Create dendrogram by iteratively Merging Clusters\n",
    "Single_linkage_Dendrogram=dendrogram(Single_linkage_matrix,truncate_mode='none',p=10)\n"
   ]
  },
  {
   "cell_type": "markdown",
   "metadata": {},
   "source": [
    "According to the graph, the smallest distance (1.11803399) exists between Tom and Ann represented by 1 and 4 so the two form the first cluster.The second smallest distance(1.41421356) exists between Tom-Ann and Joy as well as between James and Peter represented by 0 and 3, forming two identical dendograms. The next smallest distance between the 2 clusters formed is 6.32455532. This forms the main dendogram."
   ]
  }
 ],
 "metadata": {
  "kernelspec": {
   "display_name": "Python 3",
   "language": "python",
   "name": "python3"
  },
  "language_info": {
   "codemirror_mode": {
    "name": "ipython",
    "version": 3
   },
   "file_extension": ".py",
   "mimetype": "text/x-python",
   "name": "python",
   "nbconvert_exporter": "python",
   "pygments_lexer": "ipython3",
   "version": "3.8.5"
  }
 },
 "nbformat": 4,
 "nbformat_minor": 4
}
