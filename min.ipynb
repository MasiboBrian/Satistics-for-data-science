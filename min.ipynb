{
 "cells": [
  {
   "cell_type": "code",
   "execution_count": 7,
   "id": "e5cedca8-7ec8-4a73-ac70-a97b78b99f40",
   "metadata": {},
   "outputs": [
    {
     "name": "stdout",
     "output_type": "stream",
     "text": [
      "Maximum element is 1\n"
     ]
    }
   ],
   "source": [
    "# Returns the min value in a binary tree\n",
    "\n",
    "class newNode:\n",
    "    def __init__(self, data):\n",
    "        self.data = data\n",
    "        self.left = self.right = None\n",
    "  \n",
    "def find_min_in_BT(root):\n",
    "    if root is None:\n",
    "        return float('inf')\n",
    "    res = root.data\n",
    "    lres = find_min_in_BT(root.left)\n",
    "    rres = find_min_in_BT(root.right)\n",
    "    if lres < res:\n",
    "        res = lres\n",
    "    if rres < res:\n",
    "        res = rres\n",
    "    return res\n",
    "\n",
    "# Driver Code\n",
    "if __name__ == '__main__':\n",
    "    root = newNode(2)\n",
    "    root.left = newNode(7)\n",
    "    root.right = newNode(5)\n",
    "    root.left.right = newNode(6)\n",
    "    root.left.right.left = newNode(1)\n",
    "    root.left.right.right = newNode(11)\n",
    "    root.right.right = newNode(9)\n",
    "    root.right.right.left = newNode(4)\n",
    "  \n",
    "    # Function call\n",
    "    print(\"Minimum element is\",find_min_in_BT(root))"
   ]
  },
  {
   "cell_type": "code",
   "execution_count": null,
   "id": "0b1dd391-19d9-44f6-bc0e-0dfda0a22435",
   "metadata": {},
   "outputs": [],
   "source": []
  }
 ],
 "metadata": {
  "kernelspec": {
   "display_name": "Python 3",
   "language": "python",
   "name": "python3"
  },
  "language_info": {
   "codemirror_mode": {
    "name": "ipython",
    "version": 3
   },
   "file_extension": ".py",
   "mimetype": "text/x-python",
   "name": "python",
   "nbconvert_exporter": "python",
   "pygments_lexer": "ipython3",
   "version": "3.8.5"
  }
 },
 "nbformat": 4,
 "nbformat_minor": 5
}
