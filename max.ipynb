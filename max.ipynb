{
 "cells": [
  {
   "cell_type": "code",
   "execution_count": 1,
   "id": "775d4164-3e38-4728-9848-72891e8d584f",
   "metadata": {},
   "outputs": [
    {
     "name": "stdout",
     "output_type": "stream",
     "text": [
      "Maximum element is 11\n"
     ]
    }
   ],
   "source": [
    "# Python3 program to find maximum\n",
    "\n",
    "# A class to create a new node\n",
    "\n",
    "\n",
    "class newNode:\n",
    "\tdef __init__(self, data):\n",
    "\t\tself.data = data\n",
    "\t\tself.left = self.right = None\n",
    "\n",
    "# Returns maximum value in a\n",
    "# given Binary Tree\n",
    "\n",
    "\n",
    "def findMax(root):\n",
    "\n",
    "\t# Base case\n",
    "\tif (root == None):\n",
    "\t\treturn float('-inf')\n",
    "\n",
    "\t# Return maximum of 3 values:\n",
    "\t# 1) Root's data 2) Max in Left Subtree\n",
    "\t# 3) Max in right subtree\n",
    "\tres = root.data\n",
    "\tlres = findMax(root.left)\n",
    "\trres = findMax(root.right)\n",
    "\tif (lres > res):\n",
    "\t\tres = lres\n",
    "\tif (rres > res):\n",
    "\t\tres = rres\n",
    "\treturn res\n",
    "\n",
    "\n",
    "# Driver Code\n",
    "if __name__ == '__main__':\n",
    "\troot = newNode(2)\n",
    "\troot.left = newNode(7)\n",
    "\troot.right = newNode(5)\n",
    "\troot.left.right = newNode(6)\n",
    "\troot.left.right.left = newNode(1)\n",
    "\troot.left.right.right = newNode(11)\n",
    "\troot.right.right = newNode(9)\n",
    "\troot.right.right.left = newNode(4)\n",
    "\n",
    "\t# Function call\n",
    "\tprint(\"Maximum element is\",\n",
    "\t\tfindMax(root))\n",
    "\n",
    "# This code is contributed by PranchalK\n"
   ]
  },
  {
   "cell_type": "code",
   "execution_count": null,
   "id": "5b0d2dc4-085c-40cb-9942-090a6706da4f",
   "metadata": {},
   "outputs": [],
   "source": []
  }
 ],
 "metadata": {
  "kernelspec": {
   "display_name": "Python 3",
   "language": "python",
   "name": "python3"
  },
  "language_info": {
   "codemirror_mode": {
    "name": "ipython",
    "version": 3
   },
   "file_extension": ".py",
   "mimetype": "text/x-python",
   "name": "python",
   "nbconvert_exporter": "python",
   "pygments_lexer": "ipython3",
   "version": "3.8.5"
  }
 },
 "nbformat": 4,
 "nbformat_minor": 5
}
