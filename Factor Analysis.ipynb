{
 "cells": [
  {
   "cell_type": "markdown",
   "metadata": {},
   "source": [
    "## Brian Masibo\n",
    "### 20/00967"
   ]
  },
  {
   "cell_type": "code",
   "execution_count": 1,
   "metadata": {},
   "outputs": [
    {
     "name": "stdout",
     "output_type": "stream",
     "text": [
      "Requirement already satisfied: factor_analyzer in c:\\users\\user\\anaconda3\\lib\\site-packages (0.2.3)\n",
      "Requirement already satisfied: pandas in c:\\users\\user\\anaconda3\\lib\\site-packages (from factor_analyzer) (1.1.3)\n",
      "Requirement already satisfied: scipy in c:\\users\\user\\anaconda3\\lib\\site-packages (from factor_analyzer) (1.5.2)\n",
      "Requirement already satisfied: numpy in c:\\users\\user\\anaconda3\\lib\\site-packages (from factor_analyzer) (1.18.5)\n",
      "Requirement already satisfied: pytz>=2017.2 in c:\\users\\user\\anaconda3\\lib\\site-packages (from pandas->factor_analyzer) (2020.1)\n",
      "Requirement already satisfied: python-dateutil>=2.7.3 in c:\\users\\user\\anaconda3\\lib\\site-packages (from pandas->factor_analyzer) (2.8.1)\n",
      "Requirement already satisfied: six>=1.5 in c:\\users\\user\\anaconda3\\lib\\site-packages (from python-dateutil>=2.7.3->pandas->factor_analyzer) (1.15.0)\n",
      "Requirement already satisfied: Factor_Analyzer in c:\\users\\user\\anaconda3\\lib\\site-packages (0.2.3)\n",
      "Requirement already satisfied: pandas in c:\\users\\user\\anaconda3\\lib\\site-packages (from Factor_Analyzer) (1.1.3)\n",
      "Requirement already satisfied: numpy in c:\\users\\user\\anaconda3\\lib\\site-packages (from Factor_Analyzer) (1.18.5)\n",
      "Requirement already satisfied: scipy in c:\\users\\user\\anaconda3\\lib\\site-packages (from Factor_Analyzer) (1.5.2)\n",
      "Requirement already satisfied: pytz>=2017.2 in c:\\users\\user\\anaconda3\\lib\\site-packages (from pandas->Factor_Analyzer) (2020.1)\n",
      "Requirement already satisfied: python-dateutil>=2.7.3 in c:\\users\\user\\anaconda3\\lib\\site-packages (from pandas->Factor_Analyzer) (2.8.1)\n",
      "Requirement already satisfied: six>=1.5 in c:\\users\\user\\anaconda3\\lib\\site-packages (from python-dateutil>=2.7.3->pandas->Factor_Analyzer) (1.15.0)\n"
     ]
    }
   ],
   "source": [
    "#Install and import necessary Libraries\n",
    "!pip install factor_analyzer\n",
    "!pip install Factor_Analyzer\n",
    "import pandas as pd\n",
    "import numpy as np\n",
    "from sklearn.decomposition import FactorAnalysis\n",
    "from factor_analyzer import FactorAnalyzer\n",
    "import matplotlib.pyplot as plt"
   ]
  },
  {
   "cell_type": "code",
   "execution_count": 6,
   "metadata": {},
   "outputs": [
    {
     "data": {
      "text/html": [
       "<div>\n",
       "<style scoped>\n",
       "    .dataframe tbody tr th:only-of-type {\n",
       "        vertical-align: middle;\n",
       "    }\n",
       "\n",
       "    .dataframe tbody tr th {\n",
       "        vertical-align: top;\n",
       "    }\n",
       "\n",
       "    .dataframe thead th {\n",
       "        text-align: right;\n",
       "    }\n",
       "</style>\n",
       "<table border=\"1\" class=\"dataframe\">\n",
       "  <thead>\n",
       "    <tr style=\"text-align: right;\">\n",
       "      <th></th>\n",
       "      <th>sex</th>\n",
       "      <th>pneumonia</th>\n",
       "      <th>asthma</th>\n",
       "      <th>hypertension</th>\n",
       "      <th>cardiovascular</th>\n",
       "    </tr>\n",
       "  </thead>\n",
       "  <tbody>\n",
       "    <tr>\n",
       "      <th>0</th>\n",
       "      <td>2</td>\n",
       "      <td>2</td>\n",
       "      <td>2</td>\n",
       "      <td>1</td>\n",
       "      <td>2</td>\n",
       "    </tr>\n",
       "    <tr>\n",
       "      <th>1</th>\n",
       "      <td>2</td>\n",
       "      <td>2</td>\n",
       "      <td>2</td>\n",
       "      <td>2</td>\n",
       "      <td>2</td>\n",
       "    </tr>\n",
       "    <tr>\n",
       "      <th>2</th>\n",
       "      <td>2</td>\n",
       "      <td>2</td>\n",
       "      <td>2</td>\n",
       "      <td>2</td>\n",
       "      <td>2</td>\n",
       "    </tr>\n",
       "    <tr>\n",
       "      <th>3</th>\n",
       "      <td>1</td>\n",
       "      <td>1</td>\n",
       "      <td>2</td>\n",
       "      <td>2</td>\n",
       "      <td>2</td>\n",
       "    </tr>\n",
       "    <tr>\n",
       "      <th>4</th>\n",
       "      <td>2</td>\n",
       "      <td>2</td>\n",
       "      <td>2</td>\n",
       "      <td>2</td>\n",
       "      <td>2</td>\n",
       "    </tr>\n",
       "  </tbody>\n",
       "</table>\n",
       "</div>"
      ],
      "text/plain": [
       "   sex  pneumonia  asthma  hypertension  cardiovascular\n",
       "0    2          2       2             1               2\n",
       "1    2          2       2             2               2\n",
       "2    2          2       2             2               2\n",
       "3    1          1       2             2               2\n",
       "4    2          2       2             2               2"
      ]
     },
     "execution_count": 6,
     "metadata": {},
     "output_type": "execute_result"
    }
   ],
   "source": [
    "#Load data\n",
    "# Data on the effects of gender and other pre-existing conditions on covid-19 results, from Kaggle.com\n",
    "attributes=[\"sex\",\"pneumonia\",\"asthma\",\"hypertension\",\"cardiovascular\"]\n",
    "data=pd.read_csv('C:\\Pydatafiles/Italy.csv', names =attributes)\n",
    "data.head()"
   ]
  },
  {
   "cell_type": "code",
   "execution_count": 7,
   "metadata": {},
   "outputs": [
    {
     "data": {
      "text/plain": [
       "(1033918.5155763665, 0.0)"
      ]
     },
     "execution_count": 7,
     "metadata": {},
     "output_type": "execute_result"
    }
   ],
   "source": [
    "# Determine Factorabiity\n",
    "#i. Barlett_sphericity Test\n",
    "from scipy.stats import chisquare\n",
    "from factor_analyzer.factor_analyzer import calculate_bartlett_sphericity\n",
    "chi_square_value,p_value = calculate_bartlett_sphericity(data)\n",
    "chi_square_value, p_value"
   ]
  },
  {
   "cell_type": "markdown",
   "metadata": {},
   "source": [
    "#### Since the Barlett's test of spericity has a p_value of zero, which is less than 0.05, it indicates that their exists sufficient correlation among the variable, therefore we reject the null hypothesis and proceed with Factor Analysis"
   ]
  },
  {
   "cell_type": "code",
   "execution_count": 8,
   "metadata": {},
   "outputs": [
    {
     "name": "stdout",
     "output_type": "stream",
     "text": [
      "\n",
      "KMO Model\n",
      " 0.7747263624075615\n"
     ]
    }
   ],
   "source": [
    "#ii. Perform KMO Test\n",
    "from factor_analyzer.factor_analyzer import calculate_kmo\n",
    "kmo_all, kmo_model=calculate_kmo(data)\n",
    "print(\"\\nKMO Model\\n\",kmo_model)"
   ]
  },
  {
   "cell_type": "markdown",
   "metadata": {},
   "source": [
    "#### The overall KMO for the data is 0.775 which is middling, thus acceptable"
   ]
  },
  {
   "cell_type": "code",
   "execution_count": 9,
   "metadata": {},
   "outputs": [
    {
     "name": "stdout",
     "output_type": "stream",
     "text": [
      "        sex  pneumonia    asthma  hypertension  cardiovascular\n",
      "0  0.004918  -0.005582  4.932668      4.975385        5.019342\n",
      "1  0.000450  -0.013664  0.670924     -1.345026        0.673879\n",
      "2  0.002633  -0.000029  0.878490      0.003788       -0.867086\n",
      "3 -0.079955   0.098187  0.001604     -0.001626        0.000638\n",
      "4  0.000000   0.000000  0.000000     -0.000000        0.000000\n"
     ]
    }
   ],
   "source": [
    "factor=FactorAnalysis().fit(data)\n",
    "Factors=pd.DataFrame(factor.components_, columns=attributes)\n",
    "print(Factors)"
   ]
  },
  {
   "cell_type": "markdown",
   "metadata": {},
   "source": [
    "#### 4 factors have a significant correlation to the original observables, therefore we use 4 factors as the new variables"
   ]
  },
  {
   "cell_type": "code",
   "execution_count": 11,
   "metadata": {},
   "outputs": [
    {
     "name": "stdout",
     "output_type": "stream",
     "text": [
      "        sex  pneumonia    asthma  hypertension  cardiovascular\n",
      "0  0.004918  -0.005582  4.932668      4.975385        5.019342\n",
      "1  0.000450  -0.013664  0.670924     -1.345026        0.673879\n",
      "2  0.002633  -0.000029  0.878490      0.003788       -0.867086\n",
      "3 -0.079955   0.098187  0.001604     -0.001626        0.000638\n",
      "4  0.000000   0.000000  0.000000     -0.000000        0.000000\n"
     ]
    }
   ],
   "source": [
    "#Extract Factors\n",
    "factor=FactorAnalysis().fit(data)\n",
    "Factors=pd.DataFrame(factor.components_,columns=attributes)\n",
    "print(Factors)"
   ]
  },
  {
   "cell_type": "code",
   "execution_count": 13,
   "metadata": {},
   "outputs": [
    {
     "name": "stdout",
     "output_type": "stream",
     "text": [
      "   Original_Eigenvalues\n",
      "0              2.771022\n",
      "1              1.051009\n",
      "2              0.948764\n",
      "3              0.135658\n",
      "4              0.093548\n"
     ]
    }
   ],
   "source": [
    "#Choose Factors\n",
    "#i. Use Kaiser Criterion to Get Eigen Values\n",
    "fa=FactorAnalyzer()\n",
    "fa.analyze(data, 5, rotation=None)\n",
    "\n",
    "#Check Eigenvalues\n",
    "ev, v =fa.get_eigenvalues()\n",
    "print(ev)"
   ]
  },
  {
   "cell_type": "code",
   "execution_count": 14,
   "metadata": {},
   "outputs": [
    {
     "data": {
      "image/png": "[encoded data removed]",
      "text/plain": [
       "<Figure size 432x288 with 1 Axes>"
      ]
     },
     "metadata": {
      "needs_background": "light"
     },
     "output_type": "display_data"
    }
   ],
   "source": [
    "#Choose Factors\n",
    "#ii. Create scree plot using matplotlib\n",
    "#Check the shape of the data\n",
    "plt.scatter(range(1,data.shape[1]+1),ev)\n",
    "plt.plot(range(1,data.shape[1]+1),ev)\n",
    "plt.title('Scree Plot')\n",
    "plt.xlabel('Factors')\n",
    "plt.ylabel('Eigenvalue')\n",
    "plt.grid()\n",
    "plt.show()"
   ]
  },
  {
   "cell_type": "markdown",
   "metadata": {},
   "source": [
    "#### This scree plot shows  that only 2  eigenvalues are greater than one. It means we need to choose only 2 factors \n"
   ]
  },
  {
   "cell_type": "code",
   "execution_count": 18,
   "metadata": {},
   "outputs": [
    {
     "name": "stdout",
     "output_type": "stream",
     "text": [
      "                 Factor1   Factor2\n",
      "sex             0.007923 -0.053329\n",
      "pneumonia       0.028128  0.965322\n",
      "asthma          0.950325 -0.039698\n",
      "hypertension    0.918362 -0.029790\n",
      "cardiovascular  0.952159 -0.039677\n"
     ]
    }
   ],
   "source": [
    "#Rotate Factors\n",
    "#i. Generate Rotated Factor Matrix\n",
    "fa = FactorAnalyzer()\n",
    "fa.analyze(data, 2, rotation=\"varimax\")\n",
    "loading_matrix = fa.loadings\n",
    "print(loading_matrix)"
   ]
  },
  {
   "cell_type": "markdown",
   "metadata": {},
   "source": [
    "##### i.  Factor 1 has high factor loadings for sex, asthma, hypertension and cardiovascular\n",
    "##### ii. Factor 2 has high factor loadings for pneumonia"
   ]
  },
  {
   "cell_type": "code",
   "execution_count": null,
   "metadata": {},
   "outputs": [],
   "source": [
    "# Get variance of each factors\n",
    "fa.get_factor_variance()"
   ]
  }
 ],
 "metadata": {
  "kernelspec": {
   "display_name": "Python 3",
   "language": "python",
   "name": "python3"
  },
  "language_info": {
   "codemirror_mode": {
    "name": "ipython",
    "version": 3
   },
   "file_extension": ".py",
   "mimetype": "text/x-python",
   "name": "python",
   "nbconvert_exporter": "python",
   "pygments_lexer": "ipython3",
   "version": "3.8.5"
  }
 },
 "nbformat": 4,
 "nbformat_minor": 4
}
