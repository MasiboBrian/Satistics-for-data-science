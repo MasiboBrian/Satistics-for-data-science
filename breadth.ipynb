{
 "cells": [
  {
   "cell_type": "code",
   "execution_count": 8,
   "id": "dc61e547-9514-42b0-9632-e89be0c6a327",
   "metadata": {},
   "outputs": [
    {
     "name": "stdout",
     "output_type": "stream",
     "text": [
      "Level order traversal of binary tree is -\n",
      "1 2 3 9 5 "
     ]
    }
   ],
   "source": [
    "# Recursive Python program for level\n",
    "# order traversal of Binary Tree\n",
    "\n",
    "# A node structure\n",
    "class Node:\n",
    "\n",
    "\t# A utility function to create a new node\n",
    "\tdef __init__(self, key):\n",
    "\t\tself.data = key\n",
    "\t\tself.left = None\n",
    "\t\tself.right = None\n",
    "\n",
    "\n",
    "# Function to print level order traversal of tree\n",
    "def breadth_first(root):\n",
    "\th = height(root)\n",
    "\tfor i in range(1, h+1):\n",
    "\t\tprintGivenLevel(root, i)\n",
    "\n",
    "\n",
    "# Print nodes at a given level\n",
    "def printGivenLevel(root , level):\n",
    "\tif root is None:\n",
    "\t\treturn\n",
    "\tif level == 1:\n",
    "\t\tprint(root.data,end=\" \")\n",
    "\telif level > 1 :\n",
    "\t\tprintGivenLevel(root.left , level-1)\n",
    "\t\tprintGivenLevel(root.right , level-1)\n",
    "\n",
    "\n",
    "\"\"\" Compute the height of a tree--the number of nodes\n",
    "\talong the longest path from the root node down to\n",
    "\tthe farthest leaf node\n",
    "\"\"\"\n",
    "def height(node):\n",
    "\tif node is None:\n",
    "\t\treturn 0\n",
    "\telse :\n",
    "\t\t# Compute the height of each subtree\n",
    "\t\tlheight = height(node.left)\n",
    "\t\trheight = height(node.right)\n",
    "\n",
    "\t\t#Use the larger one\n",
    "\t\tif lheight > rheight :\n",
    "\t\t\treturn lheight+1\n",
    "\t\telse:\n",
    "\t\t\treturn rheight+1\n",
    "\n",
    "# Driver program to test above function\n",
    "root = Node(1)\n",
    "root.left = Node(2)\n",
    "root.right = Node(3)\n",
    "root.left.left = Node(9)\n",
    "root.left.right = Node(5)\n",
    "\n",
    "print(\"Level order traversal of binary tree is -\")\n",
    "breadth_first(root)\n"
   ]
  },
  {
   "cell_type": "code",
   "execution_count": null,
   "id": "c08a4396-3ae7-4e3f-bf93-3aeac71453f1",
   "metadata": {},
   "outputs": [],
   "source": []
  }
 ],
 "metadata": {
  "kernelspec": {
   "display_name": "Python 3",
   "language": "python",
   "name": "python3"
  },
  "language_info": {
   "codemirror_mode": {
    "name": "ipython",
    "version": 3
   },
   "file_extension": ".py",
   "mimetype": "text/x-python",
   "name": "python",
   "nbconvert_exporter": "python",
   "pygments_lexer": "ipython3",
   "version": "3.8.5"
  }
 },
 "nbformat": 4,
 "nbformat_minor": 5
}
